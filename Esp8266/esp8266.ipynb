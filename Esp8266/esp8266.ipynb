{
 "cells": [
  {
   "cell_type": "markdown",
   "id": "c866a14e-9781-4653-8d56-0ce21d724e53",
   "metadata": {},
   "source": [
    "#Setting up ESP8266 Board\n",
    "\n",
    "## Erase flash\n",
    "\n",
    "!esptool -p com5 -c esp8266 -b 460800 erase_flash\n",
    "\n",
    "## Download Micropython for esp8266\n",
    "\n",
    "<a href=\"https://micropython.org/download/esp8266/\">https://micropython.org/download/esp8266/</a>\n",
    "\n",
    "Download latest version\n",
    "\n"
   ]
  },
  {
   "cell_type": "code",
   "execution_count": 1,
   "id": "bb7cef25-4562-4706-a096-5d19a53db28f",
   "metadata": {},
   "outputs": [
    {
     "name": "stdout",
     "output_type": "stream",
     "text": [
      "esptool.py v3.0\n",
      "Serial port com5\n",
      "Connecting....\n",
      "Chip is ESP8266EX\n",
      "Features: WiFi\n",
      "Crystal is 26MHz\n",
      "MAC: 60:01:94:38:c8:64\n",
      "Uploading stub...\n",
      "Running stub...\n",
      "Stub running...\n",
      "Changing baud rate to 460800\n",
      "Changed.\n",
      "Erasing flash (this may take a while)...\n",
      "Chip erase completed successfully in 1.0s\n",
      "Hard resetting via RTS pin...\n"
     ]
    }
   ],
   "source": [
    "!esptool -p com5 -c esp8266 -b 460800 erase_flash"
   ]
  },
  {
   "cell_type": "markdown",
   "id": "ca3a8882-70cd-4fcc-b406-f9c0261f3149",
   "metadata": {},
   "source": [
    "# ESPtool Arguments command"
   ]
  },
  {
   "cell_type": "raw",
   "id": "2de2fe81-2d72-4bca-998b-90dc9654a8f8",
   "metadata": {},
   "source": [
    "\"\"\"\n",
    "esptool.py v3.0\n",
    "usage: esptool [-h] [--chip {auto,esp8266,esp32,esp32s2,esp32s3beta2,esp32c3}]\n",
    "               [--port PORT] [--baud BAUD]\n",
    "               [--before {default_reset,no_reset,no_reset_no_sync}]\n",
    "               [--after {hard_reset,soft_reset,no_reset}] [--no-stub]\n",
    "               [--trace] [--override-vddsdio [{1.8V,1.9V,OFF}]]\n",
    "               [--connect-attempts CONNECT_ATTEMPTS]\n",
    "               {load_ram,dump_mem,read_mem,write_mem,write_flash,run,image_info,make_image,elf2image,read_mac,chip_id,flash_id,read_flash_status,write_flash_status,read_flash,verify_flash,erase_flash,erase_region,version,get_security_info}\n",
    "               ...\n",
    "\n",
    "esptool.py v3.0 - ESP8266 ROM Bootloader Utility\n",
    "\n",
    "positional arguments:\n",
    "  {load_ram,dump_mem,read_mem,write_mem,write_flash,run,image_info,make_image,elf2image,read_mac,chip_id,flash_id,read_flash_status,write_flash_status,read_flash,verify_flash,erase_flash,erase_region,version,get_security_info}\n",
    "                        Run esptool {command} -h for additional help\n",
    "    load_ram            Download an image to RAM and execute\n",
    "    dump_mem            Dump arbitrary memory to disk\n",
    "    read_mem            Read arbitrary memory location\n",
    "    write_mem           Read-modify-write to arbitrary memory location\n",
    "    write_flash         Write a binary blob to flash\n",
    "    run                 Run application code in flash\n",
    "    image_info          Dump headers from an application image\n",
    "    make_image          Create an application image from binary files\n",
    "    elf2image           Create an application image from ELF file\n",
    "    read_mac            Read MAC address from OTP ROM\n",
    "    chip_id             Read Chip ID from OTP ROM\n",
    "    flash_id            Read SPI flash manufacturer and device ID\n",
    "    read_flash_status   Read SPI flash status register\n",
    "    write_flash_status  Write SPI flash status register\n",
    "    read_flash          Read SPI flash content\n",
    "    verify_flash        Verify a binary blob against flash\n",
    "    erase_flash         Perform Chip Erase on SPI flash\n",
    "    erase_region        Erase a region of the flash\n",
    "    version             Print esptool version\n",
    "    get_security_info   Get some security-related data\n",
    "\n",
    "optional arguments:\n",
    "  -h, --help            show this help message and exit\n",
    "  --chip {auto,esp8266,esp32,esp32s2,esp32s3beta2,esp32c3}, -c {auto,esp8266,esp32,esp32s2,esp32s3beta2,esp32c3}\n",
    "                        Target chip type\n",
    "  --port PORT, -p PORT  Serial port device\n",
    "  --baud BAUD, -b BAUD  Serial port baud rate used when flashing/reading\n",
    "  --before {default_reset,no_reset,no_reset_no_sync}\n",
    "                        What to do before connecting to the chip\n",
    "  --after {hard_reset,soft_reset,no_reset}, -a {hard_reset,soft_reset,no_reset}\n",
    "                        What to do after esptool.py is finished\n",
    "  --no-stub             Disable launching the flasher stub, only talk to ROM\n",
    "                        bootloader. Some features will not be available.\n",
    "  --trace, -t           Enable trace-level output of esptool.py interactions.\n",
    "  --override-vddsdio [{1.8V,1.9V,OFF}]\n",
    "                        Override ESP32 VDDSDIO internal voltage regulator (use\n",
    "                        with care)\n",
    "  --connect-attempts CONNECT_ATTEMPTS\n",
    "                        Number of attempts to connect, negative or 0 for\n",
    "                        infinite. Default: 7.\n",
    "\"\"\""
   ]
  },
  {
   "cell_type": "markdown",
   "id": "c72ab9f9-a566-4805-a2fe-55c428adf67c",
   "metadata": {},
   "source": [
    "# Getting Started\n",
    "\n",
    "<a href=\"http://docs.micropython.org/en/latest/esp8266/tutorial/intro.html#intro\">http://docs.micropython.org/en/latest/esp8266/tutorial/intro.html#intro</a>"
   ]
  },
  {
   "cell_type": "code",
   "execution_count": 11,
   "id": "738c8a08-cac0-46b1-8543-7f96159bc85c",
   "metadata": {},
   "outputs": [
    {
     "name": "stdout",
     "output_type": "stream",
     "text": [
      "esptool.py v3.0\n",
      "Serial port com5\n",
      "Connecting....\n",
      "Chip is ESP8266EX\n",
      "Features: WiFi\n",
      "Crystal is 26MHz\n",
      "MAC: 60:01:94:38:c8:64\n",
      "Uploading stub...\n",
      "Running stub...\n",
      "Stub running...\n",
      "Changing baud rate to 460800\n",
      "Changed.\n",
      "Erasing flash (this may take a while)...\n",
      "Chip erase completed successfully in 0.9s\n",
      "Hard resetting via RTS pin...\n",
      "esptool.py v3.0\n",
      "Serial port com5\n",
      "Connecting....\n",
      "Detecting chip type... ESP8266\n",
      "Chip is ESP8266EX\n",
      "Features: WiFi\n",
      "Crystal is 26MHz\n",
      "MAC: 60:01:94:38:c8:64\n",
      "Uploading stub...\n",
      "Running stub...\n",
      "Stub running...\n",
      "Changing baud rate to 460800\n",
      "Changed.\n",
      "Configuring flash size...\n",
      "Auto-detected Flash size: 4MB\n",
      "Flash params set to 0x0240\n",
      "Compressed 632632 bytes to 415634...\n",
      "Writing at 0x00000000... (3 %)\n",
      "Writing at 0x00004000... (7 %)\n",
      "Writing at 0x00008000... (11 %)\n",
      "Writing at 0x0000c000... (15 %)\n",
      "Writing at 0x00010000... (19 %)\n",
      "Writing at 0x00014000... (23 %)\n",
      "Writing at 0x00018000... (26 %)\n",
      "Writing at 0x0001c000... (30 %)\n",
      "Writing at 0x00020000... (34 %)\n",
      "Writing at 0x00024000... (38 %)\n",
      "Writing at 0x00028000... (42 %)\n",
      "Writing at 0x0002c000... (46 %)\n",
      "Writing at 0x00030000... (50 %)\n",
      "Writing at 0x00034000... (53 %)\n",
      "Writing at 0x00038000... (57 %)\n",
      "Writing at 0x0003c000... (61 %)\n",
      "Writing at 0x00040000... (65 %)\n",
      "Writing at 0x00044000... (69 %)\n",
      "Writing at 0x00048000... (73 %)\n",
      "Writing at 0x0004c000... (76 %)\n",
      "Writing at 0x00050000... (80 %)\n",
      "Writing at 0x00054000... (84 %)\n",
      "Writing at 0x00058000... (88 %)\n",
      "Writing at 0x0005c000... (92 %)\n",
      "Writing at 0x00060000... (96 %)\n",
      "Writing at 0x00064000... (100 %)\n",
      "Wrote 632632 bytes (415634 compressed) at 0x00000000 in 9.4 seconds (effective 538.6 kbit/s)...\n",
      "Hash of data verified.\n",
      "\n",
      "Leaving...\n",
      "Hard resetting via RTS pin...\n"
     ]
    }
   ],
   "source": [
    "!esptool -p com5 -c esp8266 -b 460800 erase_flash\n",
    "!esptool --port com5 --baud 460800 write_flash --flash_size=detect -fm dio 0 esp8266-20210418-v1.15.bin"
   ]
  },
  {
   "cell_type": "code",
   "execution_count": null,
   "id": "4dadee89-c2f8-43f0-8336-8a94f8b3c5ce",
   "metadata": {},
   "outputs": [],
   "source": [
    "import webrepl_setup"
   ]
  },
  {
   "cell_type": "code",
   "execution_count": null,
   "id": "68492643-5326-4c95-96db-fcc95af23b7f",
   "metadata": {},
   "outputs": [],
   "source": [
    "### boot.py\n",
    "\n",
    "# This file is executed on every boot (including wake-boot from deepsleep)\n",
    "#import esp\n",
    "#esp.osdebug(None)\n",
    "import uos, machine\n",
    "#uos.dupterm(None, 1) # disable REPL on UART(0)\n",
    "import gc\n",
    "import webrepl\n",
    "webrepl.start()\n",
    "gc.collect()\n",
    "\n",
    "\n",
    "def do_connect():\n",
    "    import network\n",
    "    sta_if = network.WLAN(network.STA_IF)\n",
    "    if not sta_if.isconnected():\n",
    "        print('connecting to network...')\n",
    "        sta_if.active(True)\n",
    "        sta_if.connect('<essid>', '<password>')\n",
    "        while not sta_if.isconnected():\n",
    "            pass\n",
    "    print('network config:', sta_if.ifconfig())"
   ]
  }
 ],
 "metadata": {
  "kernelspec": {
   "display_name": "Python 3",
   "language": "python",
   "name": "python3"
  },
  "language_info": {
   "codemirror_mode": {
    "name": "ipython",
    "version": 3
   },
   "file_extension": ".py",
   "mimetype": "text/x-python",
   "name": "python",
   "nbconvert_exporter": "python",
   "pygments_lexer": "ipython3",
   "version": "3.7.3"
  }
 },
 "nbformat": 4,
 "nbformat_minor": 5
}
